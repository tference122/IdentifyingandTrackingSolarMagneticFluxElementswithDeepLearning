{
 "cells": [
  {
   "cell_type": "markdown",
   "id": "21a48670-279a-4cde-ab2a-1f2e95d51cb5",
   "metadata": {},
   "source": [
    "# Identifying and Tracking Solar Magnetic Flux Elements with Deep Learning"
   ]
  },
  {
   "cell_type": "markdown",
   "id": "2edcc41f-7827-48d3-8125-40a27caf1432",
   "metadata": {},
   "source": [
    "### Import Library's"
   ]
  },
  {
   "cell_type": "code",
   "execution_count": 27,
   "id": "a1e9a29b-77df-4f8f-9f1c-7ac637ec53a3",
   "metadata": {},
   "outputs": [],
   "source": [
    "import keras as keras\n",
    "import tensorflow as tf\n",
    "import numpy as np\n",
    "import pandas as pd\n",
    "import matplotlib.pyplot as plt\n",
    "\n",
    "from astropy.io import fits"
   ]
  },
  {
   "cell_type": "markdown",
   "id": "d8affec9-6bbd-4103-ab0a-ff4f98a40d67",
   "metadata": {},
   "source": [
    "## Model"
   ]
  },
  {
   "cell_type": "markdown",
   "id": "25178f0b-42b5-4e3b-8a2b-626a862fcd40",
   "metadata": {},
   "source": [
    "### **Input:** This will have one neuron with a 720x720 image input"
   ]
  },
  {
   "cell_type": "code",
   "execution_count": 28,
   "id": "1262cf52-ca5a-4543-85c6-ee89d31d082e",
   "metadata": {},
   "outputs": [],
   "source": [
    "inputs = keras.Input(shape=(720, 720, 1))"
   ]
  },
  {
   "cell_type": "markdown",
   "id": "756237d7-25f6-41a6-9e0c-1fcb6f6cacfa",
   "metadata": {},
   "source": [
    "### **Encoder 1:** Will have 32 Neurons kernel will be 3x3 with batch normalization and dropout at the end of the encoder with a connection to the 4th decoder"
   ]
  },
  {
   "cell_type": "code",
   "execution_count": 29,
   "id": "7bf2d082-1d05-4eaa-8675-1d665a361aa6",
   "metadata": {},
   "outputs": [],
   "source": [
    "e1 = keras.layers.Conv2D(32, (3,3), activation='relu', padding='same', kernel_initializer='he_normal')(inputs)\n",
    "e1_bn = keras.layers.BatchNormalization()(e1)\n",
    "e1 = keras.layers.Conv2D(32, (3,3), activation='relu', padding='same', kernel_initializer='he_normal')(e1_bn)\n",
    "e1_bn = keras.layers.BatchNormalization()(e1)\n",
    "e1_pool = keras.layers.MaxPooling2D(pool_size=(2,2))(e1_bn)\n",
    "e1_dropout = keras.layers.Dropout(0.5)(e1_pool)"
   ]
  },
  {
   "cell_type": "markdown",
   "id": "37df748c-7e79-42ef-a218-426e3191105c",
   "metadata": {},
   "source": [
    "### **Encoder 2:** Will have 64 Neurons kernel will be 3x3 with batch normalization and dropout at the end of the encoder with a connection to the 3rd decoder"
   ]
  },
  {
   "cell_type": "code",
   "execution_count": 30,
   "id": "5155e4b8-e387-4c8f-b840-7dba0a57be82",
   "metadata": {},
   "outputs": [],
   "source": [
    "e2 = keras.layers.Conv2D(64, (3,3), activation='relu', padding='same', kernel_initializer='he_normal')(e1_dropout)\n",
    "e2_bn = keras.layers.BatchNormalization()(e2)\n",
    "e2 = keras.layers.Conv2D(64, (3,3), activation='relu', padding='same', kernel_initializer='he_normal')(e2_bn)\n",
    "e2_bn = keras.layers.BatchNormalization()(e2)\n",
    "e2_pool = keras.layers.MaxPooling2D(pool_size=(2,2))(e2_bn)\n",
    "e2_dropout = keras.layers.Dropout(0.5)(e2_pool)"
   ]
  },
  {
   "cell_type": "markdown",
   "id": "8a54059a-efd8-4daa-809c-6ae974309167",
   "metadata": {},
   "source": [
    "### **Encoder 3:** Will have 128 Neurons kernel will be 3x3 with batch normalization and dropout at the end of the encoder with a connection to the 2nd decoder"
   ]
  },
  {
   "cell_type": "code",
   "execution_count": 31,
   "id": "f6573bd6-a42f-4b4b-a8ae-88e3a45b12e8",
   "metadata": {},
   "outputs": [],
   "source": [
    "e3 = keras.layers.Conv2D(128, (3,3), activation='relu', padding='same', kernel_initializer='he_normal')(e2_dropout)\n",
    "e3_bn = keras.layers.BatchNormalization()(e3)\n",
    "e3 = keras.layers.Conv2D(128, (3,3), activation='relu', padding='same', kernel_initializer='he_normal')(e3_bn)\n",
    "e3_bn = keras.layers.BatchNormalization()(e3)\n",
    "e3_pool = keras.layers.MaxPooling2D(pool_size=(2,2))(e3_bn)\n",
    "e3_dropout = keras.layers.Dropout(0.5)(e3_pool)"
   ]
  },
  {
   "cell_type": "markdown",
   "id": "80497d22-402a-4dcc-9f41-5a396de64642",
   "metadata": {},
   "source": [
    "### **Encoder 4:** Will have 256 Neurons kernel will be 3x3 with batch normalization and dropout at the end of the encoder with a connection to the 1st decoder"
   ]
  },
  {
   "cell_type": "code",
   "execution_count": 32,
   "id": "937c288b-8d89-4240-9398-2a5173b90f25",
   "metadata": {},
   "outputs": [],
   "source": [
    "e4 = keras.layers.Conv2D(256, (3,3), activation='relu', padding='same', kernel_initializer='he_normal')(e3_dropout)\n",
    "e4_bn = keras.layers.BatchNormalization()(e4)\n",
    "e4 = keras.layers.Conv2D(256, (3,3), activation='relu', padding='same', kernel_initializer='he_normal')(e4_bn)\n",
    "e4_bn = keras.layers.BatchNormalization()(e4)\n",
    "e4_pool = keras.layers.MaxPooling2D(pool_size=(2,2))(e4_bn)\n",
    "e4_dropout = keras.layers.Dropout(0.5)(e4_pool)"
   ]
  },
  {
   "cell_type": "markdown",
   "id": "6b8f3b76-b0df-4362-b487-a34f473d5db5",
   "metadata": {},
   "source": [
    "### **Bottel Neck:** Will have 512 Neurons kernel will be 3x3 with batch normalization and dropout at the end of the encoder with a connection to the 1st decoder"
   ]
  },
  {
   "cell_type": "code",
   "execution_count": 34,
   "id": "c55c94cb-9f1f-483b-82e2-6409934cbe7e",
   "metadata": {},
   "outputs": [],
   "source": [
    "bn = keras.layers.Conv2D(256, (3,3), activation='relu', padding='same', kernel_initializer='he_normal')(e4_dropout)\n",
    "bn_bn = keras.layers.BatchNormalization()(bn)"
   ]
  },
  {
   "cell_type": "markdown",
   "id": "a41de168-f2cb-4700-a7df-2581e2aefd7c",
   "metadata": {},
   "source": [
    "### **Decoder 1:** Will have 256 Neurons kernel will be 2x2"
   ]
  },
  {
   "cell_type": "code",
   "execution_count": 36,
   "id": "dd10273a-ef33-45e2-a1ed-65b5749e4044",
   "metadata": {},
   "outputs": [],
   "source": [
    "d1 = keras.layers.Conv2D(256, (2,2), activation='relu', padding='same', kernel_initializer='he_normal')(keras.layers.UpSampling2D(size=(2,2))(bn_bn))\n",
    "d1_merge = keras.layers.concatenate([e4, d1], axis=3)\n",
    "d1_drop = keras.layers.Dropout(0.5)(d1_merge)\n",
    "d1 = keras.layers.Conv2D(256, (3,3), activation='relu', padding='same', kernel_initializer='he_normal')(d1_drop)\n",
    "d1_bn = keras.layers.BatchNormalization()(d1)\n",
    "d1 = keras.layers.Conv2D(256, (3,3), activation='relu', padding='same', kernel_initializer='he_normal')(d1_bn)\n",
    "d1_bn = keras.layers.BatchNormalization()(d1)"
   ]
  },
  {
   "cell_type": "markdown",
   "id": "a52c654b-2e50-4faa-a0a2-e89c08df525e",
   "metadata": {},
   "source": [
    "### **Decoder 2:** Will have 128 Neurons kernel will be 2x2"
   ]
  },
  {
   "cell_type": "code",
   "execution_count": 37,
   "id": "c3d3ba50-feec-4b0a-8f8b-68b44bf995b1",
   "metadata": {},
   "outputs": [],
   "source": [
    "d2 = keras.layers.Conv2D(128, (2,2), activation='relu', padding='same', kernel_initializer='he_normal')(keras.layers.UpSampling2D(size=(2,2))(d1_bn))\n",
    "d2_merge = keras.layers.concatenate([e3, d2], axis=3)\n",
    "d2_drop = keras.layers.Dropout(0.5)(d2_merge)\n",
    "d2 = keras.layers.Conv2D(128, (3,3), activation='relu', padding='same', kernel_initializer='he_normal')(d2_drop)\n",
    "d2_bn = keras.layers.BatchNormalization()(d2)\n",
    "d2 = keras.layers.Conv2D(128, (3,3), activation='relu', padding='same', kernel_initializer='he_normal')(d2_bn)\n",
    "d2_bn = keras.layers.BatchNormalization()(d2)"
   ]
  },
  {
   "cell_type": "code",
   "execution_count": null,
   "id": "84b17ef2-aa6c-4b3e-a2c9-44538869e4c9",
   "metadata": {},
   "outputs": [],
   "source": []
  }
 ],
 "metadata": {
  "kernelspec": {
   "display_name": "Python 3 (ipykernel)",
   "language": "python",
   "name": "python3"
  },
  "language_info": {
   "codemirror_mode": {
    "name": "ipython",
    "version": 3
   },
   "file_extension": ".py",
   "mimetype": "text/x-python",
   "name": "python",
   "nbconvert_exporter": "python",
   "pygments_lexer": "ipython3",
   "version": "3.9.7"
  }
 },
 "nbformat": 4,
 "nbformat_minor": 5
}
