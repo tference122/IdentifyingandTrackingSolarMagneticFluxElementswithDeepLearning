{
 "cells": [
  {
   "cell_type": "markdown",
   "id": "21a48670-279a-4cde-ab2a-1f2e95d51cb5",
   "metadata": {},
   "source": [
    "# Identifying and Tracking Solar Magnetic Flux Elements with Deep Learning"
   ]
  },
  {
   "cell_type": "markdown",
   "id": "2edcc41f-7827-48d3-8125-40a27caf1432",
   "metadata": {},
   "source": [
    "### Import Library's"
   ]
  },
  {
   "cell_type": "code",
   "execution_count": 27,
   "id": "a1e9a29b-77df-4f8f-9f1c-7ac637ec53a3",
   "metadata": {},
   "outputs": [],
   "source": [
    "import keras as keras\n",
    "import tensorflow as tf\n",
    "import numpy as np\n",
    "import pandas as pd\n",
    "import matplotlib.pyplot as plt\n",
    "\n",
    "from astropy.io import fits"
   ]
  },
  {
   "cell_type": "markdown",
   "id": "d8affec9-6bbd-4103-ab0a-ff4f98a40d67",
   "metadata": {},
   "source": [
    "## Model"
   ]
  },
  {
   "cell_type": "markdown",
   "id": "25178f0b-42b5-4e3b-8a2b-626a862fcd40",
   "metadata": {},
   "source": [
    "### **Input:** This will have one neuron with a 720x720 image input"
   ]
  },
  {
   "cell_type": "code",
   "execution_count": 28,
   "id": "1262cf52-ca5a-4543-85c6-ee89d31d082e",
   "metadata": {},
   "outputs": [],
   "source": [
    "inputs = keras.Input(shape=(720, 720, 1))"
   ]
  },
  {
   "cell_type": "markdown",
   "id": "756237d7-25f6-41a6-9e0c-1fcb6f6cacfa",
   "metadata": {},
   "source": [
    "### **Encoder 1:** Will have 32 Neurons kernel will be 3x3 with batch normalization and dropout at the end of the encoder with a connection to the 4th decoder"
   ]
  },
  {
   "cell_type": "code",
   "execution_count": 29,
   "id": "7bf2d082-1d05-4eaa-8675-1d665a361aa6",
   "metadata": {},
   "outputs": [],
   "source": [
    "e1 = keras.layers.Conv2D(32, (3,3), activation='relu', padding='same', kernel_initializer='he_normal')(inputs)\n",
    "e1_bn = keras.layers.BatchNormalization()(e1)\n",
    "e1 = keras.layers.Conv2D(32, (3,3), activation='relu', padding='same', kernel_initializer='he_normal')(e1_bn)\n",
    "e1_bn = keras.layers.BatchNormalization()(e1)\n",
    "e1_pool = keras.layers.MaxPooling2D(pool_size=(2,2))(e1_bn)\n",
    "e1_dropout = keras.layers.Dropout(0.5)(e1_pool)"
   ]
  },
  {
   "cell_type": "markdown",
   "id": "37df748c-7e79-42ef-a218-426e3191105c",
   "metadata": {},
   "source": [
    "### **Encoder 2:** Will have 64 Neurons kernel will be 3x3 with batch normalization and dropout at the end of the encoder with a connection to the 3rd decoder"
   ]
  },
  {
   "cell_type": "code",
   "execution_count": 30,
   "id": "5155e4b8-e387-4c8f-b840-7dba0a57be82",
   "metadata": {},
   "outputs": [],
   "source": [
    "e2 = keras.layers.Conv2D(64, (3,3), activation='relu', padding='same', kernel_initializer='he_normal')(e1_dropout)\n",
    "e2_bn = keras.layers.BatchNormalization()(e2)\n",
    "e2 = keras.layers.Conv2D(64, (3,3), activation='relu', padding='same', kernel_initializer='he_normal')(e2_bn)\n",
    "e2_bn = keras.layers.BatchNormalization()(e2)\n",
    "e2_pool = keras.layers.MaxPooling2D(pool_size=(2,2))(e2_bn)\n",
    "e2_dropout = keras.layers.Dropout(0.5)(e2_pool)"
   ]
  },
  {
   "cell_type": "markdown",
   "id": "8a54059a-efd8-4daa-809c-6ae974309167",
   "metadata": {},
   "source": [
    "### **Encoder 3:** Will have 128 Neurons kernel will be 3x3 with batch normalization and dropout at the end of the encoder with a connection to the 2nd decoder"
   ]
  },
  {
   "cell_type": "code",
   "execution_count": 31,
   "id": "f6573bd6-a42f-4b4b-a8ae-88e3a45b12e8",
   "metadata": {},
   "outputs": [],
   "source": [
    "e3 = keras.layers.Conv2D(128, (3,3), activation='relu', padding='same', kernel_initializer='he_normal')(e2_dropout)\n",
    "e3_bn = keras.layers.BatchNormalization()(e3)\n",
    "e3 = keras.layers.Conv2D(128, (3,3), activation='relu', padding='same', kernel_initializer='he_normal')(e3_bn)\n",
    "e3_bn = keras.layers.BatchNormalization()(e3)\n",
    "e3_pool = keras.layers.MaxPooling2D(pool_size=(2,2))(e3_bn)\n",
    "e3_dropout = keras.layers.Dropout(0.5)(e3_pool)"
   ]
  },
  {
   "cell_type": "markdown",
   "id": "80497d22-402a-4dcc-9f41-5a396de64642",
   "metadata": {},
   "source": [
    "### **Encoder 4:** Will have 256 Neurons kernel will be 3x3 with batch normalization and dropout at the end of the encoder with a connection to the 1st decoder"
   ]
  },
  {
   "cell_type": "code",
   "execution_count": 32,
   "id": "937c288b-8d89-4240-9398-2a5173b90f25",
   "metadata": {},
   "outputs": [],
   "source": [
    "e4 = keras.layers.Conv2D(256, (3,3), activation='relu', padding='same', kernel_initializer='he_normal')(e3_dropout)\n",
    "e4_bn = keras.layers.BatchNormalization()(e4)\n",
    "e4 = keras.layers.Conv2D(256, (3,3), activation='relu', padding='same', kernel_initializer='he_normal')(e4_bn)\n",
    "e4_bn = keras.layers.BatchNormalization()(e4)\n",
    "e4_pool = keras.layers.MaxPooling2D(pool_size=(2,2))(e4_bn)\n",
    "e4_dropout = keras.layers.Dropout(0.5)(e4_pool)"
   ]
  },
  {
   "cell_type": "markdown",
   "id": "6b8f3b76-b0df-4362-b487-a34f473d5db5",
   "metadata": {},
   "source": [
    "### **Bottel Neck:** Will have 512 Neurons kernel will be 3x3 with batch normalization and dropout at the end of the encoder with a connection to the 1st decoder"
   ]
  },
  {
   "cell_type": "code",
   "execution_count": 34,
   "id": "c55c94cb-9f1f-483b-82e2-6409934cbe7e",
   "metadata": {},
   "outputs": [],
   "source": [
    "bn = keras.layers.Conv2D(256, (3,3), activation='relu', padding='same', kernel_initializer='he_normal')(e4_dropout)\n",
    "bn_bn = keras.layers.BatchNormalization()(bn)"
   ]
  },
  {
   "cell_type": "markdown",
   "id": "a41de168-f2cb-4700-a7df-2581e2aefd7c",
   "metadata": {},
   "source": [
    "### **Decoder 1:** Will have 256 Neurons kernel will be 2x2"
   ]
  },
  {
   "cell_type": "code",
   "execution_count": 36,
   "id": "dd10273a-ef33-45e2-a1ed-65b5749e4044",
   "metadata": {},
   "outputs": [],
   "source": [
    "d1 = keras.layers.Conv2D(256, (2,2), activation='relu', padding='same', kernel_initializer='he_normal')(keras.layers.UpSampling2D(size=(2,2))(bn_bn))\n",
    "d1_merge = keras.layers.concatenate([e4, d1], axis=3)\n",
    "d1_drop = keras.layers.Dropout(0.5)(d1_merge)\n",
    "d1 = keras.layers.Conv2D(256, (3,3), activation='relu', padding='same', kernel_initializer='he_normal')(d1_drop)\n",
    "d1_bn = keras.layers.BatchNormalization()(d1)\n",
    "d1 = keras.layers.Conv2D(256, (3,3), activation='relu', padding='same', kernel_initializer='he_normal')(d1_bn)\n",
    "d1_bn = keras.layers.BatchNormalization()(d1)"
   ]
  },
  {
   "cell_type": "markdown",
   "id": "a52c654b-2e50-4faa-a0a2-e89c08df525e",
   "metadata": {},
   "source": [
    "### **Decoder 2:** Will have 128 Neurons kernel will be 2x2"
   ]
  },
  {
   "cell_type": "code",
   "execution_count": 39,
   "id": "c3d3ba50-feec-4b0a-8f8b-68b44bf995b1",
   "metadata": {},
   "outputs": [],
   "source": [
    "d2 = keras.layers.Conv2D(128, (2,2), activation='relu', padding='same', kernel_initializer='he_normal')(keras.layers.UpSampling2D(size=(2,2))(d1_bn))\n",
    "d2_merge = keras.layers.concatenate([e3, d2], axis=3)\n",
    "d2_drop = keras.layers.Dropout(0.5)(d2_merge)\n",
    "d2 = keras.layers.Conv2D(128, (3,3), activation='relu', padding='same', kernel_initializer='he_normal')(d2_drop)\n",
    "d2_bn = keras.layers.BatchNormalization()(d2)\n",
    "d2 = keras.layers.Conv2D(128, (3,3), activation='relu', padding='same', kernel_initializer='he_normal')(d2_bn)\n",
    "d2_bn = keras.layers.BatchNormalization()(d2)"
   ]
  },
  {
   "cell_type": "markdown",
   "id": "f5627813-8d6a-4136-bfd9-02a2a7ace96a",
   "metadata": {},
   "source": [
    "### **Decoder 3:** Will have 128 Neurons kernel will be 2x2"
   ]
  },
  {
   "cell_type": "code",
   "execution_count": 41,
   "id": "4bdb801f-2db7-44be-8050-73bc99445ea4",
   "metadata": {},
   "outputs": [],
   "source": [
    "d3 = keras.layers.Conv2D(64, (2,2), activation='relu', padding='same', kernel_initializer='he_normal')(keras.layers.UpSampling2D(size=(2,2))(d2_bn))\n",
    "d3_merge = keras.layers.concatenate([e2, d3], axis=3)\n",
    "d3_drop = keras.layers.Dropout(0.5)(d3_merge)\n",
    "d3 = keras.layers.Conv2D(64, (3,3), activation='relu', padding='same', kernel_initializer='he_normal')(d3_drop)\n",
    "d3_bn = keras.layers.BatchNormalization()(d3)\n",
    "d3 = keras.layers.Conv2D(64, (3,3), activation='relu', padding='same', kernel_initializer='he_normal')(d3_bn)\n",
    "d3_bn = keras.layers.BatchNormalization()(d3)"
   ]
  },
  {
   "cell_type": "markdown",
   "id": "aa838465-d12e-4653-812e-5edd05fecd45",
   "metadata": {},
   "source": [
    "### **Decoder 4:** Will have 128 Neurons kernel will be 2x2"
   ]
  },
  {
   "cell_type": "code",
   "execution_count": 42,
   "id": "d926db40-2699-4744-a092-f6c1eefa9f2c",
   "metadata": {},
   "outputs": [],
   "source": [
    "d4 = keras.layers.Conv2D(64, (2,2), activation='relu', padding='same', kernel_initializer='he_normal')(keras.layers.UpSampling2D(size=(2,2))(d3_bn))\n",
    "d4_merge = keras.layers.concatenate([e1, d4], axis=3)\n",
    "d4_drop = keras.layers.Dropout(0.5)(d4_merge)\n",
    "d4 = keras.layers.Conv2D(64, (3,3), activation='relu', padding='same', kernel_initializer='he_normal')(d4_drop)\n",
    "d4_bn = keras.layers.BatchNormalization()(d4)\n",
    "d4 = keras.layers.Conv2D(64, (3,3), activation='relu', padding='same', kernel_initializer='he_normal')(d4_bn)\n",
    "d4_bn = keras.layers.BatchNormalization()(d4)"
   ]
  },
  {
   "cell_type": "markdown",
   "id": "6074cae9-6a65-43ec-9369-1a9106dec413",
   "metadata": {},
   "source": [
    "## Output"
   ]
  },
  {
   "cell_type": "code",
   "execution_count": 43,
   "id": "7ea19004-dde1-4bf9-966f-4c48cfc4d09b",
   "metadata": {},
   "outputs": [],
   "source": [
    "outputs = keras.layers.Conv2D(1, (1,1), activation='sigmoid')(d4_bn)"
   ]
  },
  {
   "cell_type": "code",
   "execution_count": 45,
   "id": "60071bf4-5ab0-4513-bda0-e09ec4ce472a",
   "metadata": {},
   "outputs": [],
   "source": [
    "model = keras.Model(inputs=inputs, outputs=outputs)\n",
    "model.compile(optimizer='adam', loss='binary_crossentropy', metrics=['accuracy'])"
   ]
  },
  {
   "cell_type": "code",
   "execution_count": 46,
   "id": "c6de9d27-247d-46e9-996c-d6b09739879e",
   "metadata": {},
   "outputs": [
    {
     "name": "stdout",
     "output_type": "stream",
     "text": [
      "Model: \"model_1\"\n",
      "__________________________________________________________________________________________________\n",
      " Layer (type)                   Output Shape         Param #     Connected to                     \n",
      "==================================================================================================\n",
      " input_3 (InputLayer)           [(None, 720, 720, 1  0           []                               \n",
      "                                )]                                                                \n",
      "                                                                                                  \n",
      " conv2d_11 (Conv2D)             (None, 720, 720, 32  320         ['input_3[0][0]']                \n",
      "                                )                                                                 \n",
      "                                                                                                  \n",
      " batch_normalization_9 (BatchNo  (None, 720, 720, 32  128        ['conv2d_11[0][0]']              \n",
      " rmalization)                   )                                                                 \n",
      "                                                                                                  \n",
      " conv2d_12 (Conv2D)             (None, 720, 720, 32  9248        ['batch_normalization_9[0][0]']  \n",
      "                                )                                                                 \n",
      "                                                                                                  \n",
      " batch_normalization_10 (BatchN  (None, 720, 720, 32  128        ['conv2d_12[0][0]']              \n",
      " ormalization)                  )                                                                 \n",
      "                                                                                                  \n",
      " max_pooling2d_3 (MaxPooling2D)  (None, 360, 360, 32  0          ['batch_normalization_10[0][0]'] \n",
      "                                )                                                                 \n",
      "                                                                                                  \n",
      " dropout_2 (Dropout)            (None, 360, 360, 32  0           ['max_pooling2d_3[0][0]']        \n",
      "                                )                                                                 \n",
      "                                                                                                  \n",
      " conv2d_13 (Conv2D)             (None, 360, 360, 64  18496       ['dropout_2[0][0]']              \n",
      "                                )                                                                 \n",
      "                                                                                                  \n",
      " batch_normalization_11 (BatchN  (None, 360, 360, 64  256        ['conv2d_13[0][0]']              \n",
      " ormalization)                  )                                                                 \n",
      "                                                                                                  \n",
      " conv2d_14 (Conv2D)             (None, 360, 360, 64  36928       ['batch_normalization_11[0][0]'] \n",
      "                                )                                                                 \n",
      "                                                                                                  \n",
      " batch_normalization_12 (BatchN  (None, 360, 360, 64  256        ['conv2d_14[0][0]']              \n",
      " ormalization)                  )                                                                 \n",
      "                                                                                                  \n",
      " max_pooling2d_4 (MaxPooling2D)  (None, 180, 180, 64  0          ['batch_normalization_12[0][0]'] \n",
      "                                )                                                                 \n",
      "                                                                                                  \n",
      " dropout_3 (Dropout)            (None, 180, 180, 64  0           ['max_pooling2d_4[0][0]']        \n",
      "                                )                                                                 \n",
      "                                                                                                  \n",
      " conv2d_15 (Conv2D)             (None, 180, 180, 12  73856       ['dropout_3[0][0]']              \n",
      "                                8)                                                                \n",
      "                                                                                                  \n",
      " batch_normalization_13 (BatchN  (None, 180, 180, 12  512        ['conv2d_15[0][0]']              \n",
      " ormalization)                  8)                                                                \n",
      "                                                                                                  \n",
      " conv2d_16 (Conv2D)             (None, 180, 180, 12  147584      ['batch_normalization_13[0][0]'] \n",
      "                                8)                                                                \n",
      "                                                                                                  \n",
      " batch_normalization_14 (BatchN  (None, 180, 180, 12  512        ['conv2d_16[0][0]']              \n",
      " ormalization)                  8)                                                                \n",
      "                                                                                                  \n",
      " max_pooling2d_5 (MaxPooling2D)  (None, 90, 90, 128)  0          ['batch_normalization_14[0][0]'] \n",
      "                                                                                                  \n",
      " dropout_4 (Dropout)            (None, 90, 90, 128)  0           ['max_pooling2d_5[0][0]']        \n",
      "                                                                                                  \n",
      " conv2d_17 (Conv2D)             (None, 90, 90, 256)  295168      ['dropout_4[0][0]']              \n",
      "                                                                                                  \n",
      " batch_normalization_15 (BatchN  (None, 90, 90, 256)  1024       ['conv2d_17[0][0]']              \n",
      " ormalization)                                                                                    \n",
      "                                                                                                  \n",
      " conv2d_18 (Conv2D)             (None, 90, 90, 256)  590080      ['batch_normalization_15[0][0]'] \n",
      "                                                                                                  \n",
      " batch_normalization_16 (BatchN  (None, 90, 90, 256)  1024       ['conv2d_18[0][0]']              \n",
      " ormalization)                                                                                    \n",
      "                                                                                                  \n",
      " max_pooling2d_6 (MaxPooling2D)  (None, 45, 45, 256)  0          ['batch_normalization_16[0][0]'] \n",
      "                                                                                                  \n",
      " dropout_5 (Dropout)            (None, 45, 45, 256)  0           ['max_pooling2d_6[0][0]']        \n",
      "                                                                                                  \n",
      " conv2d_19 (Conv2D)             (None, 45, 45, 256)  590080      ['dropout_5[0][0]']              \n",
      "                                                                                                  \n",
      " batch_normalization_17 (BatchN  (None, 45, 45, 256)  1024       ['conv2d_19[0][0]']              \n",
      " ormalization)                                                                                    \n",
      "                                                                                                  \n",
      " up_sampling2d_1 (UpSampling2D)  (None, 90, 90, 256)  0          ['batch_normalization_17[0][0]'] \n",
      "                                                                                                  \n",
      " conv2d_21 (Conv2D)             (None, 90, 90, 256)  262400      ['up_sampling2d_1[0][0]']        \n",
      "                                                                                                  \n",
      " concatenate_1 (Concatenate)    (None, 90, 90, 512)  0           ['conv2d_18[0][0]',              \n",
      "                                                                  'conv2d_21[0][0]']              \n",
      "                                                                                                  \n",
      " dropout_6 (Dropout)            (None, 90, 90, 512)  0           ['concatenate_1[0][0]']          \n",
      "                                                                                                  \n",
      " conv2d_22 (Conv2D)             (None, 90, 90, 256)  1179904     ['dropout_6[0][0]']              \n",
      "                                                                                                  \n",
      " batch_normalization_18 (BatchN  (None, 90, 90, 256)  1024       ['conv2d_22[0][0]']              \n",
      " ormalization)                                                                                    \n",
      "                                                                                                  \n",
      " conv2d_23 (Conv2D)             (None, 90, 90, 256)  590080      ['batch_normalization_18[0][0]'] \n",
      "                                                                                                  \n",
      " batch_normalization_19 (BatchN  (None, 90, 90, 256)  1024       ['conv2d_23[0][0]']              \n",
      " ormalization)                                                                                    \n",
      "                                                                                                  \n",
      " up_sampling2d_4 (UpSampling2D)  (None, 180, 180, 25  0          ['batch_normalization_19[0][0]'] \n",
      "                                6)                                                                \n",
      "                                                                                                  \n",
      " conv2d_30 (Conv2D)             (None, 180, 180, 12  131200      ['up_sampling2d_4[0][0]']        \n",
      "                                8)                                                                \n",
      "                                                                                                  \n",
      " concatenate_4 (Concatenate)    (None, 180, 180, 25  0           ['conv2d_16[0][0]',              \n",
      "                                6)                                'conv2d_30[0][0]']              \n",
      "                                                                                                  \n",
      " dropout_9 (Dropout)            (None, 180, 180, 25  0           ['concatenate_4[0][0]']          \n",
      "                                6)                                                                \n",
      "                                                                                                  \n",
      " conv2d_31 (Conv2D)             (None, 180, 180, 12  295040      ['dropout_9[0][0]']              \n",
      "                                8)                                                                \n",
      "                                                                                                  \n",
      " batch_normalization_24 (BatchN  (None, 180, 180, 12  512        ['conv2d_31[0][0]']              \n",
      " ormalization)                  8)                                                                \n",
      "                                                                                                  \n",
      " conv2d_32 (Conv2D)             (None, 180, 180, 12  147584      ['batch_normalization_24[0][0]'] \n",
      "                                8)                                                                \n",
      "                                                                                                  \n",
      " batch_normalization_25 (BatchN  (None, 180, 180, 12  512        ['conv2d_32[0][0]']              \n",
      " ormalization)                  8)                                                                \n",
      "                                                                                                  \n",
      " up_sampling2d_6 (UpSampling2D)  (None, 360, 360, 12  0          ['batch_normalization_25[0][0]'] \n",
      "                                8)                                                                \n",
      "                                                                                                  \n",
      " conv2d_36 (Conv2D)             (None, 360, 360, 64  32832       ['up_sampling2d_6[0][0]']        \n",
      "                                )                                                                 \n",
      "                                                                                                  \n",
      " concatenate_6 (Concatenate)    (None, 360, 360, 12  0           ['conv2d_14[0][0]',              \n",
      "                                8)                                'conv2d_36[0][0]']              \n",
      "                                                                                                  \n",
      " dropout_11 (Dropout)           (None, 360, 360, 12  0           ['concatenate_6[0][0]']          \n",
      "                                8)                                                                \n",
      "                                                                                                  \n",
      " conv2d_37 (Conv2D)             (None, 360, 360, 64  73792       ['dropout_11[0][0]']             \n",
      "                                )                                                                 \n",
      "                                                                                                  \n",
      " batch_normalization_28 (BatchN  (None, 360, 360, 64  256        ['conv2d_37[0][0]']              \n",
      " ormalization)                  )                                                                 \n",
      "                                                                                                  \n",
      " conv2d_38 (Conv2D)             (None, 360, 360, 64  36928       ['batch_normalization_28[0][0]'] \n",
      "                                )                                                                 \n",
      "                                                                                                  \n",
      " batch_normalization_29 (BatchN  (None, 360, 360, 64  256        ['conv2d_38[0][0]']              \n",
      " ormalization)                  )                                                                 \n",
      "                                                                                                  \n",
      " up_sampling2d_7 (UpSampling2D)  (None, 720, 720, 64  0          ['batch_normalization_29[0][0]'] \n",
      "                                )                                                                 \n",
      "                                                                                                  \n",
      " conv2d_39 (Conv2D)             (None, 720, 720, 64  16448       ['up_sampling2d_7[0][0]']        \n",
      "                                )                                                                 \n",
      "                                                                                                  \n",
      " concatenate_7 (Concatenate)    (None, 720, 720, 96  0           ['conv2d_12[0][0]',              \n",
      "                                )                                 'conv2d_39[0][0]']              \n",
      "                                                                                                  \n",
      " dropout_12 (Dropout)           (None, 720, 720, 96  0           ['concatenate_7[0][0]']          \n",
      "                                )                                                                 \n",
      "                                                                                                  \n",
      " conv2d_40 (Conv2D)             (None, 720, 720, 64  55360       ['dropout_12[0][0]']             \n",
      "                                )                                                                 \n",
      "                                                                                                  \n",
      " batch_normalization_30 (BatchN  (None, 720, 720, 64  256        ['conv2d_40[0][0]']              \n",
      " ormalization)                  )                                                                 \n",
      "                                                                                                  \n",
      " conv2d_41 (Conv2D)             (None, 720, 720, 64  36928       ['batch_normalization_30[0][0]'] \n",
      "                                )                                                                 \n",
      "                                                                                                  \n",
      " batch_normalization_31 (BatchN  (None, 720, 720, 64  256        ['conv2d_41[0][0]']              \n",
      " ormalization)                  )                                                                 \n",
      "                                                                                                  \n",
      " conv2d_42 (Conv2D)             (None, 720, 720, 1)  65          ['batch_normalization_31[0][0]'] \n",
      "                                                                                                  \n",
      "==================================================================================================\n",
      "Total params: 4,629,281\n",
      "Trainable params: 4,624,801\n",
      "Non-trainable params: 4,480\n",
      "__________________________________________________________________________________________________\n"
     ]
    }
   ],
   "source": [
    "model.summary()"
   ]
  },
  {
   "cell_type": "code",
   "execution_count": null,
   "id": "ba722ea1-7c2f-49a4-b8aa-011f3afb0a6d",
   "metadata": {},
   "outputs": [],
   "source": []
  }
 ],
 "metadata": {
  "kernelspec": {
   "display_name": "Python 3 (ipykernel)",
   "language": "python",
   "name": "python3"
  },
  "language_info": {
   "codemirror_mode": {
    "name": "ipython",
    "version": 3
   },
   "file_extension": ".py",
   "mimetype": "text/x-python",
   "name": "python",
   "nbconvert_exporter": "python",
   "pygments_lexer": "ipython3",
   "version": "3.9.7"
  }
 },
 "nbformat": 4,
 "nbformat_minor": 5
}
