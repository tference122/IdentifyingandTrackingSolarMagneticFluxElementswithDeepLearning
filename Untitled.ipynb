{
 "cells": [
  {
   "cell_type": "markdown",
   "id": "21a48670-279a-4cde-ab2a-1f2e95d51cb5",
   "metadata": {},
   "source": [
    "# Identifying and Tracking Solar Magnetic Flux Elements with Deep Learning"
   ]
  },
  {
   "cell_type": "markdown",
   "id": "2edcc41f-7827-48d3-8125-40a27caf1432",
   "metadata": {},
   "source": [
    "### Import Library's"
   ]
  },
  {
   "cell_type": "code",
   "execution_count": 14,
   "id": "a1e9a29b-77df-4f8f-9f1c-7ac637ec53a3",
   "metadata": {},
   "outputs": [],
   "source": [
    "import keras as keras\n",
    "import tensorflow as tf\n",
    "import numpy as np\n",
    "import pandas as pd\n",
    "import matplotlib.pyplot as plt\n",
    "\n",
    "from astropy.io import fits"
   ]
  },
  {
   "cell_type": "code",
   "execution_count": null,
   "id": "3cc62bae-a831-45c7-b0dd-8feff83aa4f2",
   "metadata": {},
   "outputs": [],
   "source": []
  }
 ],
 "metadata": {
  "kernelspec": {
   "display_name": "Python 3 (ipykernel)",
   "language": "python",
   "name": "python3"
  },
  "language_info": {
   "codemirror_mode": {
    "name": "ipython",
    "version": 3
   },
   "file_extension": ".py",
   "mimetype": "text/x-python",
   "name": "python",
   "nbconvert_exporter": "python",
   "pygments_lexer": "ipython3",
   "version": "3.9.7"
  }
 },
 "nbformat": 4,
 "nbformat_minor": 5
}
